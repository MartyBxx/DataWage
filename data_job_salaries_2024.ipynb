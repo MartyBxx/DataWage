{
 "cells": [
  {
   "cell_type": "markdown",
   "metadata": {},
   "source": [
    "# This notebook is only a scrap paper\n",
    "# Dieses Notebook ist nur ein Schmierblatt"
   ]
  },
  {
   "cell_type": "code",
   "execution_count": 152,
   "metadata": {},
   "outputs": [],
   "source": [
    "import pandas as pd\n",
    "import matplotlib.pyplot as plt\n",
    "import seaborn as sns\n",
    "from sklearn.model_selection import train_test_split\n",
    "from sklearn.linear_model import LinearRegression\n",
    "from sklearn.metrics import accuracy_score, confusion_matrix\n",
    "\n",
    "sns.set_palette('mako')"
   ]
  },
  {
   "cell_type": "code",
   "execution_count": 118,
   "metadata": {},
   "outputs": [],
   "source": [
    "data = pd.read_csv('dataset.csv')\n",
    "df = pd.DataFrame(data)"
   ]
  },
  {
   "cell_type": "code",
   "execution_count": 119,
   "metadata": {},
   "outputs": [
    {
     "data": {
      "text/html": [
       "<div>\n",
       "<style scoped>\n",
       "    .dataframe tbody tr th:only-of-type {\n",
       "        vertical-align: middle;\n",
       "    }\n",
       "\n",
       "    .dataframe tbody tr th {\n",
       "        vertical-align: top;\n",
       "    }\n",
       "\n",
       "    .dataframe thead th {\n",
       "        text-align: right;\n",
       "    }\n",
       "</style>\n",
       "<table border=\"1\" class=\"dataframe\">\n",
       "  <thead>\n",
       "    <tr style=\"text-align: right;\">\n",
       "      <th></th>\n",
       "      <th>work_year</th>\n",
       "      <th>experience_level</th>\n",
       "      <th>employment_type</th>\n",
       "      <th>job_title</th>\n",
       "      <th>salary</th>\n",
       "      <th>salary_currency</th>\n",
       "      <th>salary_in_usd</th>\n",
       "      <th>employee_residence</th>\n",
       "      <th>remote_ratio</th>\n",
       "      <th>company_location</th>\n",
       "      <th>company_size</th>\n",
       "    </tr>\n",
       "  </thead>\n",
       "  <tbody>\n",
       "    <tr>\n",
       "      <th>0</th>\n",
       "      <td>2024</td>\n",
       "      <td>SE</td>\n",
       "      <td>FT</td>\n",
       "      <td>AI Engineer</td>\n",
       "      <td>202730</td>\n",
       "      <td>USD</td>\n",
       "      <td>202730</td>\n",
       "      <td>US</td>\n",
       "      <td>0</td>\n",
       "      <td>US</td>\n",
       "      <td>M</td>\n",
       "    </tr>\n",
       "    <tr>\n",
       "      <th>1</th>\n",
       "      <td>2024</td>\n",
       "      <td>SE</td>\n",
       "      <td>FT</td>\n",
       "      <td>AI Engineer</td>\n",
       "      <td>92118</td>\n",
       "      <td>USD</td>\n",
       "      <td>92118</td>\n",
       "      <td>US</td>\n",
       "      <td>0</td>\n",
       "      <td>US</td>\n",
       "      <td>M</td>\n",
       "    </tr>\n",
       "    <tr>\n",
       "      <th>2</th>\n",
       "      <td>2024</td>\n",
       "      <td>SE</td>\n",
       "      <td>FT</td>\n",
       "      <td>Data Engineer</td>\n",
       "      <td>130500</td>\n",
       "      <td>USD</td>\n",
       "      <td>130500</td>\n",
       "      <td>US</td>\n",
       "      <td>0</td>\n",
       "      <td>US</td>\n",
       "      <td>M</td>\n",
       "    </tr>\n",
       "    <tr>\n",
       "      <th>3</th>\n",
       "      <td>2024</td>\n",
       "      <td>SE</td>\n",
       "      <td>FT</td>\n",
       "      <td>Data Engineer</td>\n",
       "      <td>96000</td>\n",
       "      <td>USD</td>\n",
       "      <td>96000</td>\n",
       "      <td>US</td>\n",
       "      <td>0</td>\n",
       "      <td>US</td>\n",
       "      <td>M</td>\n",
       "    </tr>\n",
       "    <tr>\n",
       "      <th>4</th>\n",
       "      <td>2024</td>\n",
       "      <td>SE</td>\n",
       "      <td>FT</td>\n",
       "      <td>Machine Learning Engineer</td>\n",
       "      <td>190000</td>\n",
       "      <td>USD</td>\n",
       "      <td>190000</td>\n",
       "      <td>US</td>\n",
       "      <td>0</td>\n",
       "      <td>US</td>\n",
       "      <td>M</td>\n",
       "    </tr>\n",
       "  </tbody>\n",
       "</table>\n",
       "</div>"
      ],
      "text/plain": [
       "   work_year experience_level employment_type                  job_title  \\\n",
       "0       2024               SE              FT                AI Engineer   \n",
       "1       2024               SE              FT                AI Engineer   \n",
       "2       2024               SE              FT              Data Engineer   \n",
       "3       2024               SE              FT              Data Engineer   \n",
       "4       2024               SE              FT  Machine Learning Engineer   \n",
       "\n",
       "   salary salary_currency  salary_in_usd employee_residence  remote_ratio  \\\n",
       "0  202730             USD         202730                 US             0   \n",
       "1   92118             USD          92118                 US             0   \n",
       "2  130500             USD         130500                 US             0   \n",
       "3   96000             USD          96000                 US             0   \n",
       "4  190000             USD         190000                 US             0   \n",
       "\n",
       "  company_location company_size  \n",
       "0               US            M  \n",
       "1               US            M  \n",
       "2               US            M  \n",
       "3               US            M  \n",
       "4               US            M  "
      ]
     },
     "execution_count": 119,
     "metadata": {},
     "output_type": "execute_result"
    }
   ],
   "source": [
    "df.head()"
   ]
  },
  {
   "cell_type": "code",
   "execution_count": 120,
   "metadata": {},
   "outputs": [
    {
     "data": {
      "text/plain": [
       "work_year             0\n",
       "experience_level      0\n",
       "employment_type       0\n",
       "job_title             0\n",
       "salary                0\n",
       "salary_currency       0\n",
       "salary_in_usd         0\n",
       "employee_residence    0\n",
       "remote_ratio          0\n",
       "company_location      0\n",
       "company_size          0\n",
       "dtype: int64"
      ]
     },
     "execution_count": 120,
     "metadata": {},
     "output_type": "execute_result"
    }
   ],
   "source": [
    "df.isnull().sum()"
   ]
  },
  {
   "cell_type": "code",
   "execution_count": 121,
   "metadata": {},
   "outputs": [
    {
     "data": {
      "text/html": [
       "<div>\n",
       "<style scoped>\n",
       "    .dataframe tbody tr th:only-of-type {\n",
       "        vertical-align: middle;\n",
       "    }\n",
       "\n",
       "    .dataframe tbody tr th {\n",
       "        vertical-align: top;\n",
       "    }\n",
       "\n",
       "    .dataframe thead th {\n",
       "        text-align: right;\n",
       "    }\n",
       "</style>\n",
       "<table border=\"1\" class=\"dataframe\">\n",
       "  <thead>\n",
       "    <tr style=\"text-align: right;\">\n",
       "      <th></th>\n",
       "      <th>work_year</th>\n",
       "      <th>salary</th>\n",
       "      <th>salary_in_usd</th>\n",
       "      <th>remote_ratio</th>\n",
       "    </tr>\n",
       "  </thead>\n",
       "  <tbody>\n",
       "    <tr>\n",
       "      <th>count</th>\n",
       "      <td>16534.000000</td>\n",
       "      <td>1.653400e+04</td>\n",
       "      <td>16534.000000</td>\n",
       "      <td>16534.000000</td>\n",
       "    </tr>\n",
       "    <tr>\n",
       "      <th>mean</th>\n",
       "      <td>2023.226866</td>\n",
       "      <td>1.637270e+05</td>\n",
       "      <td>149686.777973</td>\n",
       "      <td>32.003750</td>\n",
       "    </tr>\n",
       "    <tr>\n",
       "      <th>std</th>\n",
       "      <td>0.713558</td>\n",
       "      <td>3.402057e+05</td>\n",
       "      <td>68505.293156</td>\n",
       "      <td>46.245158</td>\n",
       "    </tr>\n",
       "    <tr>\n",
       "      <th>min</th>\n",
       "      <td>2020.000000</td>\n",
       "      <td>1.400000e+04</td>\n",
       "      <td>15000.000000</td>\n",
       "      <td>0.000000</td>\n",
       "    </tr>\n",
       "    <tr>\n",
       "      <th>25%</th>\n",
       "      <td>2023.000000</td>\n",
       "      <td>1.017630e+05</td>\n",
       "      <td>101125.000000</td>\n",
       "      <td>0.000000</td>\n",
       "    </tr>\n",
       "    <tr>\n",
       "      <th>50%</th>\n",
       "      <td>2023.000000</td>\n",
       "      <td>1.422000e+05</td>\n",
       "      <td>141300.000000</td>\n",
       "      <td>0.000000</td>\n",
       "    </tr>\n",
       "    <tr>\n",
       "      <th>75%</th>\n",
       "      <td>2024.000000</td>\n",
       "      <td>1.872000e+05</td>\n",
       "      <td>185900.000000</td>\n",
       "      <td>100.000000</td>\n",
       "    </tr>\n",
       "    <tr>\n",
       "      <th>max</th>\n",
       "      <td>2024.000000</td>\n",
       "      <td>3.040000e+07</td>\n",
       "      <td>800000.000000</td>\n",
       "      <td>100.000000</td>\n",
       "    </tr>\n",
       "  </tbody>\n",
       "</table>\n",
       "</div>"
      ],
      "text/plain": [
       "          work_year        salary  salary_in_usd  remote_ratio\n",
       "count  16534.000000  1.653400e+04   16534.000000  16534.000000\n",
       "mean    2023.226866  1.637270e+05  149686.777973     32.003750\n",
       "std        0.713558  3.402057e+05   68505.293156     46.245158\n",
       "min     2020.000000  1.400000e+04   15000.000000      0.000000\n",
       "25%     2023.000000  1.017630e+05  101125.000000      0.000000\n",
       "50%     2023.000000  1.422000e+05  141300.000000      0.000000\n",
       "75%     2024.000000  1.872000e+05  185900.000000    100.000000\n",
       "max     2024.000000  3.040000e+07  800000.000000    100.000000"
      ]
     },
     "execution_count": 121,
     "metadata": {},
     "output_type": "execute_result"
    }
   ],
   "source": [
    "df.describe()"
   ]
  },
  {
   "cell_type": "code",
   "execution_count": 122,
   "metadata": {},
   "outputs": [
    {
     "name": "stdout",
     "output_type": "stream",
     "text": [
      "<class 'pandas.core.frame.DataFrame'>\n",
      "RangeIndex: 16534 entries, 0 to 16533\n",
      "Data columns (total 11 columns):\n",
      " #   Column              Non-Null Count  Dtype \n",
      "---  ------              --------------  ----- \n",
      " 0   work_year           16534 non-null  int64 \n",
      " 1   experience_level    16534 non-null  object\n",
      " 2   employment_type     16534 non-null  object\n",
      " 3   job_title           16534 non-null  object\n",
      " 4   salary              16534 non-null  int64 \n",
      " 5   salary_currency     16534 non-null  object\n",
      " 6   salary_in_usd       16534 non-null  int64 \n",
      " 7   employee_residence  16534 non-null  object\n",
      " 8   remote_ratio        16534 non-null  int64 \n",
      " 9   company_location    16534 non-null  object\n",
      " 10  company_size        16534 non-null  object\n",
      "dtypes: int64(4), object(7)\n",
      "memory usage: 1.4+ MB\n"
     ]
    }
   ],
   "source": [
    "df.info()"
   ]
  },
  {
   "cell_type": "code",
   "execution_count": 123,
   "metadata": {},
   "outputs": [],
   "source": [
    "data['experience_level'] = data['experience_level'].replace({\n",
    "    'SE': 'Senior',\n",
    "    'EN': 'Junior',\n",
    "    'EX': 'Executive',\n",
    "    'MI': 'Mid Level',\n",
    "})"
   ]
  },
  {
   "cell_type": "code",
   "execution_count": 124,
   "metadata": {},
   "outputs": [
    {
     "data": {
      "text/html": [
       "<div>\n",
       "<style scoped>\n",
       "    .dataframe tbody tr th:only-of-type {\n",
       "        vertical-align: middle;\n",
       "    }\n",
       "\n",
       "    .dataframe tbody tr th {\n",
       "        vertical-align: top;\n",
       "    }\n",
       "\n",
       "    .dataframe thead th {\n",
       "        text-align: right;\n",
       "    }\n",
       "</style>\n",
       "<table border=\"1\" class=\"dataframe\">\n",
       "  <thead>\n",
       "    <tr style=\"text-align: right;\">\n",
       "      <th></th>\n",
       "      <th>work_year</th>\n",
       "      <th>experience_level</th>\n",
       "      <th>employment_type</th>\n",
       "      <th>job_title</th>\n",
       "      <th>salary</th>\n",
       "      <th>salary_currency</th>\n",
       "      <th>salary_in_usd</th>\n",
       "      <th>employee_residence</th>\n",
       "      <th>remote_ratio</th>\n",
       "      <th>company_location</th>\n",
       "      <th>company_size</th>\n",
       "    </tr>\n",
       "  </thead>\n",
       "  <tbody>\n",
       "    <tr>\n",
       "      <th>0</th>\n",
       "      <td>2024</td>\n",
       "      <td>Senior</td>\n",
       "      <td>FT</td>\n",
       "      <td>AI Engineer</td>\n",
       "      <td>202730</td>\n",
       "      <td>USD</td>\n",
       "      <td>202730</td>\n",
       "      <td>US</td>\n",
       "      <td>0</td>\n",
       "      <td>US</td>\n",
       "      <td>M</td>\n",
       "    </tr>\n",
       "    <tr>\n",
       "      <th>1</th>\n",
       "      <td>2024</td>\n",
       "      <td>Senior</td>\n",
       "      <td>FT</td>\n",
       "      <td>AI Engineer</td>\n",
       "      <td>92118</td>\n",
       "      <td>USD</td>\n",
       "      <td>92118</td>\n",
       "      <td>US</td>\n",
       "      <td>0</td>\n",
       "      <td>US</td>\n",
       "      <td>M</td>\n",
       "    </tr>\n",
       "    <tr>\n",
       "      <th>2</th>\n",
       "      <td>2024</td>\n",
       "      <td>Senior</td>\n",
       "      <td>FT</td>\n",
       "      <td>Data Engineer</td>\n",
       "      <td>130500</td>\n",
       "      <td>USD</td>\n",
       "      <td>130500</td>\n",
       "      <td>US</td>\n",
       "      <td>0</td>\n",
       "      <td>US</td>\n",
       "      <td>M</td>\n",
       "    </tr>\n",
       "    <tr>\n",
       "      <th>3</th>\n",
       "      <td>2024</td>\n",
       "      <td>Senior</td>\n",
       "      <td>FT</td>\n",
       "      <td>Data Engineer</td>\n",
       "      <td>96000</td>\n",
       "      <td>USD</td>\n",
       "      <td>96000</td>\n",
       "      <td>US</td>\n",
       "      <td>0</td>\n",
       "      <td>US</td>\n",
       "      <td>M</td>\n",
       "    </tr>\n",
       "    <tr>\n",
       "      <th>4</th>\n",
       "      <td>2024</td>\n",
       "      <td>Senior</td>\n",
       "      <td>FT</td>\n",
       "      <td>Machine Learning Engineer</td>\n",
       "      <td>190000</td>\n",
       "      <td>USD</td>\n",
       "      <td>190000</td>\n",
       "      <td>US</td>\n",
       "      <td>0</td>\n",
       "      <td>US</td>\n",
       "      <td>M</td>\n",
       "    </tr>\n",
       "  </tbody>\n",
       "</table>\n",
       "</div>"
      ],
      "text/plain": [
       "   work_year experience_level employment_type                  job_title  \\\n",
       "0       2024           Senior              FT                AI Engineer   \n",
       "1       2024           Senior              FT                AI Engineer   \n",
       "2       2024           Senior              FT              Data Engineer   \n",
       "3       2024           Senior              FT              Data Engineer   \n",
       "4       2024           Senior              FT  Machine Learning Engineer   \n",
       "\n",
       "   salary salary_currency  salary_in_usd employee_residence  remote_ratio  \\\n",
       "0  202730             USD         202730                 US             0   \n",
       "1   92118             USD          92118                 US             0   \n",
       "2  130500             USD         130500                 US             0   \n",
       "3   96000             USD          96000                 US             0   \n",
       "4  190000             USD         190000                 US             0   \n",
       "\n",
       "  company_location company_size  \n",
       "0               US            M  \n",
       "1               US            M  \n",
       "2               US            M  \n",
       "3               US            M  \n",
       "4               US            M  "
      ]
     },
     "execution_count": 124,
     "metadata": {},
     "output_type": "execute_result"
    }
   ],
   "source": [
    "data.head()"
   ]
  },
  {
   "cell_type": "code",
   "execution_count": 125,
   "metadata": {},
   "outputs": [
    {
     "data": {
      "text/plain": [
       "(16534, 11)"
      ]
     },
     "execution_count": 125,
     "metadata": {},
     "output_type": "execute_result"
    }
   ],
   "source": [
    "data.shape"
   ]
  },
  {
   "cell_type": "code",
   "execution_count": 126,
   "metadata": {},
   "outputs": [
    {
     "data": {
      "text/plain": [
       "(6421, 11)"
      ]
     },
     "execution_count": 126,
     "metadata": {},
     "output_type": "execute_result"
    }
   ],
   "source": [
    "duplic = data[data.duplicated()]\n",
    "duplic.shape"
   ]
  },
  {
   "cell_type": "code",
   "execution_count": 127,
   "metadata": {},
   "outputs": [
    {
     "data": {
      "text/html": [
       "<div>\n",
       "<style scoped>\n",
       "    .dataframe tbody tr th:only-of-type {\n",
       "        vertical-align: middle;\n",
       "    }\n",
       "\n",
       "    .dataframe tbody tr th {\n",
       "        vertical-align: top;\n",
       "    }\n",
       "\n",
       "    .dataframe thead th {\n",
       "        text-align: right;\n",
       "    }\n",
       "</style>\n",
       "<table border=\"1\" class=\"dataframe\">\n",
       "  <thead>\n",
       "    <tr style=\"text-align: right;\">\n",
       "      <th></th>\n",
       "      <th>work_year</th>\n",
       "      <th>experience_level</th>\n",
       "      <th>employment_type</th>\n",
       "      <th>job_title</th>\n",
       "      <th>salary</th>\n",
       "      <th>salary_currency</th>\n",
       "      <th>salary_in_usd</th>\n",
       "      <th>employee_residence</th>\n",
       "      <th>remote_ratio</th>\n",
       "      <th>company_location</th>\n",
       "      <th>company_size</th>\n",
       "    </tr>\n",
       "  </thead>\n",
       "  <tbody>\n",
       "    <tr>\n",
       "      <th>62</th>\n",
       "      <td>2024</td>\n",
       "      <td>Senior</td>\n",
       "      <td>FT</td>\n",
       "      <td>Machine Learning Engineer</td>\n",
       "      <td>190000</td>\n",
       "      <td>USD</td>\n",
       "      <td>190000</td>\n",
       "      <td>US</td>\n",
       "      <td>0</td>\n",
       "      <td>US</td>\n",
       "      <td>M</td>\n",
       "    </tr>\n",
       "    <tr>\n",
       "      <th>151</th>\n",
       "      <td>2024</td>\n",
       "      <td>Senior</td>\n",
       "      <td>FT</td>\n",
       "      <td>Research Analyst</td>\n",
       "      <td>130000</td>\n",
       "      <td>USD</td>\n",
       "      <td>130000</td>\n",
       "      <td>US</td>\n",
       "      <td>0</td>\n",
       "      <td>US</td>\n",
       "      <td>M</td>\n",
       "    </tr>\n",
       "    <tr>\n",
       "      <th>238</th>\n",
       "      <td>2024</td>\n",
       "      <td>Mid Level</td>\n",
       "      <td>FT</td>\n",
       "      <td>Data Analyst</td>\n",
       "      <td>95000</td>\n",
       "      <td>USD</td>\n",
       "      <td>95000</td>\n",
       "      <td>US</td>\n",
       "      <td>0</td>\n",
       "      <td>US</td>\n",
       "      <td>M</td>\n",
       "    </tr>\n",
       "    <tr>\n",
       "      <th>239</th>\n",
       "      <td>2024</td>\n",
       "      <td>Mid Level</td>\n",
       "      <td>FT</td>\n",
       "      <td>Data Analyst</td>\n",
       "      <td>80000</td>\n",
       "      <td>USD</td>\n",
       "      <td>80000</td>\n",
       "      <td>US</td>\n",
       "      <td>0</td>\n",
       "      <td>US</td>\n",
       "      <td>M</td>\n",
       "    </tr>\n",
       "    <tr>\n",
       "      <th>247</th>\n",
       "      <td>2024</td>\n",
       "      <td>Senior</td>\n",
       "      <td>FT</td>\n",
       "      <td>Data Scientist</td>\n",
       "      <td>146000</td>\n",
       "      <td>USD</td>\n",
       "      <td>146000</td>\n",
       "      <td>US</td>\n",
       "      <td>0</td>\n",
       "      <td>US</td>\n",
       "      <td>M</td>\n",
       "    </tr>\n",
       "    <tr>\n",
       "      <th>...</th>\n",
       "      <td>...</td>\n",
       "      <td>...</td>\n",
       "      <td>...</td>\n",
       "      <td>...</td>\n",
       "      <td>...</td>\n",
       "      <td>...</td>\n",
       "      <td>...</td>\n",
       "      <td>...</td>\n",
       "      <td>...</td>\n",
       "      <td>...</td>\n",
       "      <td>...</td>\n",
       "    </tr>\n",
       "    <tr>\n",
       "      <th>16235</th>\n",
       "      <td>2022</td>\n",
       "      <td>Mid Level</td>\n",
       "      <td>FT</td>\n",
       "      <td>Data Scientist</td>\n",
       "      <td>78000</td>\n",
       "      <td>USD</td>\n",
       "      <td>78000</td>\n",
       "      <td>US</td>\n",
       "      <td>100</td>\n",
       "      <td>US</td>\n",
       "      <td>M</td>\n",
       "    </tr>\n",
       "    <tr>\n",
       "      <th>16236</th>\n",
       "      <td>2022</td>\n",
       "      <td>Senior</td>\n",
       "      <td>FT</td>\n",
       "      <td>Data Engineer</td>\n",
       "      <td>135000</td>\n",
       "      <td>USD</td>\n",
       "      <td>135000</td>\n",
       "      <td>US</td>\n",
       "      <td>100</td>\n",
       "      <td>US</td>\n",
       "      <td>M</td>\n",
       "    </tr>\n",
       "    <tr>\n",
       "      <th>16237</th>\n",
       "      <td>2022</td>\n",
       "      <td>Senior</td>\n",
       "      <td>FT</td>\n",
       "      <td>Data Engineer</td>\n",
       "      <td>115000</td>\n",
       "      <td>USD</td>\n",
       "      <td>115000</td>\n",
       "      <td>US</td>\n",
       "      <td>100</td>\n",
       "      <td>US</td>\n",
       "      <td>M</td>\n",
       "    </tr>\n",
       "    <tr>\n",
       "      <th>16376</th>\n",
       "      <td>2021</td>\n",
       "      <td>Mid Level</td>\n",
       "      <td>FT</td>\n",
       "      <td>Data Engineer</td>\n",
       "      <td>200000</td>\n",
       "      <td>USD</td>\n",
       "      <td>200000</td>\n",
       "      <td>US</td>\n",
       "      <td>100</td>\n",
       "      <td>US</td>\n",
       "      <td>L</td>\n",
       "    </tr>\n",
       "    <tr>\n",
       "      <th>16490</th>\n",
       "      <td>2021</td>\n",
       "      <td>Mid Level</td>\n",
       "      <td>FT</td>\n",
       "      <td>Data Scientist</td>\n",
       "      <td>76760</td>\n",
       "      <td>EUR</td>\n",
       "      <td>90734</td>\n",
       "      <td>DE</td>\n",
       "      <td>50</td>\n",
       "      <td>DE</td>\n",
       "      <td>L</td>\n",
       "    </tr>\n",
       "  </tbody>\n",
       "</table>\n",
       "<p>6421 rows × 11 columns</p>\n",
       "</div>"
      ],
      "text/plain": [
       "       work_year experience_level employment_type                  job_title  \\\n",
       "62          2024           Senior              FT  Machine Learning Engineer   \n",
       "151         2024           Senior              FT           Research Analyst   \n",
       "238         2024        Mid Level              FT               Data Analyst   \n",
       "239         2024        Mid Level              FT               Data Analyst   \n",
       "247         2024           Senior              FT             Data Scientist   \n",
       "...          ...              ...             ...                        ...   \n",
       "16235       2022        Mid Level              FT             Data Scientist   \n",
       "16236       2022           Senior              FT              Data Engineer   \n",
       "16237       2022           Senior              FT              Data Engineer   \n",
       "16376       2021        Mid Level              FT              Data Engineer   \n",
       "16490       2021        Mid Level              FT             Data Scientist   \n",
       "\n",
       "       salary salary_currency  salary_in_usd employee_residence  remote_ratio  \\\n",
       "62     190000             USD         190000                 US             0   \n",
       "151    130000             USD         130000                 US             0   \n",
       "238     95000             USD          95000                 US             0   \n",
       "239     80000             USD          80000                 US             0   \n",
       "247    146000             USD         146000                 US             0   \n",
       "...       ...             ...            ...                ...           ...   \n",
       "16235   78000             USD          78000                 US           100   \n",
       "16236  135000             USD         135000                 US           100   \n",
       "16237  115000             USD         115000                 US           100   \n",
       "16376  200000             USD         200000                 US           100   \n",
       "16490   76760             EUR          90734                 DE            50   \n",
       "\n",
       "      company_location company_size  \n",
       "62                  US            M  \n",
       "151                 US            M  \n",
       "238                 US            M  \n",
       "239                 US            M  \n",
       "247                 US            M  \n",
       "...                ...          ...  \n",
       "16235               US            M  \n",
       "16236               US            M  \n",
       "16237               US            M  \n",
       "16376               US            L  \n",
       "16490               DE            L  \n",
       "\n",
       "[6421 rows x 11 columns]"
      ]
     },
     "execution_count": 127,
     "metadata": {},
     "output_type": "execute_result"
    }
   ],
   "source": [
    "duplic"
   ]
  },
  {
   "cell_type": "code",
   "execution_count": 153,
   "metadata": {},
   "outputs": [
    {
     "data": {
      "image/png": "[encoded data removed]",
      "text/plain": [
       "<Figure size 640x480 with 1 Axes>"
      ]
     },
     "metadata": {},
     "output_type": "display_data"
    }
   ],
   "source": [
    "sns.boxplot(data, x= 'employment_type', y= 'salary_in_usd')\n",
    "plt.xlabel('Anstellungsart')\n",
    "plt.ylabel('Gehalt in USD')\n",
    "plt.show()"
   ]
  },
  {
   "cell_type": "code",
   "execution_count": 129,
   "metadata": {},
   "outputs": [],
   "source": [
    "def job_category(job_title):\n",
    "    data_engineering = [\"Data Engineer\", \"Data Analyst\", \"Analytics Engineer\",\n",
    "                        \"BI Data Analyst\", \"Business Data Analyst\", \"BI Developer\",\n",
    "                        \"BI Analyst\", \"Business Intelligence Engineer\",\n",
    "                        \"BI Data Engineer\", \"Power BI Developer\"]\n",
    "    \n",
    "    data_scientist = [\"Data Scientist\", \"Applied Scientist\", \"Research Scientist\",\n",
    "                        \"3D Computer Vision Researcher\", \"Deep Learning Researcher\",\n",
    "                        \"AI/Computer Vision Engineer\"]\n",
    "    \n",
    "    machine_learning = [\"Machine Learning Engineer\", \"ML Engineer\",\n",
    "                        \"Lead Machine Learning Engineer\", \"Principal Machine Learning Engineer\"]\n",
    "    \n",
    "    data_architecture = [\"Data Architect\", \"Big Data Architect\", \"Cloud Data Architect\", \"Principal Data Architect\"]\n",
    "    \n",
    "    management = [\"Data Science Manager\", \"Director of Data Science\",\n",
    "                  \"Head of Data Science\", \"Data Scientist Lead\", \"Head of Machine Learning\",\n",
    "                  \"Manager Data Management\", \"Data Analytics Manager\"]\n",
    "    \n",
    "    if job_title in data_engineering:\n",
    "        return \"Data Engineering\"\n",
    "    elif job_title in data_scientist:\n",
    "        return \"Data Science\"\n",
    "    elif job_title in machine_learning:\n",
    "        return \"Machine Learning\"\n",
    "    elif job_title in data_architecture:\n",
    "        return \"Data Architecture\"\n",
    "    elif job_title in management:\n",
    "        return \"Management\"\n",
    "    else:\n",
    "        return \"Other\"\n",
    "    \n",
    "    \n",
    "    \n",
    "data['job_category'] = data['job_title'].apply(job_category)\n",
    "\n"
   ]
  },
  {
   "cell_type": "code",
   "execution_count": 130,
   "metadata": {},
   "outputs": [
    {
     "data": {
      "text/plain": [
       "count                16534\n",
       "unique                   6\n",
       "top       Data Engineering\n",
       "freq                  6759\n",
       "Name: job_category, dtype: object"
      ]
     },
     "execution_count": 130,
     "metadata": {},
     "output_type": "execute_result"
    }
   ],
   "source": [
    "data['job_category'].describe()"
   ]
  },
  {
   "cell_type": "code",
   "execution_count": 154,
   "metadata": {},
   "outputs": [
    {
     "data": {
      "image/png": "[encoded data removed]",
      "text/plain": [
       "<Figure size 1200x600 with 1 Axes>"
      ]
     },
     "metadata": {},
     "output_type": "display_data"
    }
   ],
   "source": [
    "plt.figure(figsize= (12,6))\n",
    "sns.barplot(data, x= 'job_category', y= 'salary_in_usd')\n",
    "plt.show()"
   ]
  },
  {
   "cell_type": "code",
   "execution_count": 155,
   "metadata": {},
   "outputs": [
    {
     "data": {
      "text/plain": [
       "<Axes: xlabel='employee_residence', ylabel='salary_in_usd'>"
      ]
     },
     "execution_count": 155,
     "metadata": {},
     "output_type": "execute_result"
    },
    {
     "data": {
      "image/png": "[encoded data removed]",
      "text/plain": [
       "<Figure size 1600x800 with 1 Axes>"
      ]
     },
     "metadata": {},
     "output_type": "display_data"
    }
   ],
   "source": [
    "plt.figure(figsize= (16,8))\n",
    "sns.barplot(data, x= 'employee_residence', y= 'salary_in_usd', hue= 'job_category')"
   ]
  },
  {
   "cell_type": "code",
   "execution_count": 133,
   "metadata": {},
   "outputs": [
    {
     "data": {
      "text/plain": [
       "array(['US', 'AU', 'GB', 'CA', 'NL', 'LT', 'DK', 'FR', 'ZA', 'NZ', 'AR',\n",
       "       'ES', 'KE', 'LV', 'GE', 'IN', 'DE', 'IL', 'FI', 'AT', 'HR', 'BR',\n",
       "       'CH', 'AE', 'GR', 'PL', 'SA', 'UA', 'EG', 'PH', 'TR', 'OM', 'MX',\n",
       "       'PT', 'BA', 'IT', 'IE', 'EE', 'MT', 'LB', 'RO', 'HU', 'VN', 'NG',\n",
       "       'CZ', 'PK', 'UG', 'CO', 'SI', 'MU', 'AM', 'TH', 'KR', 'QA', 'RU',\n",
       "       'TN', 'GH', 'BE', 'AD', 'EC', 'PE', 'MD', 'NO', 'UZ', 'JP', 'HK',\n",
       "       'CF', 'SG', 'SE', 'KW', 'CY', 'IR', 'AS', 'CN', 'CR', 'CL', 'PR',\n",
       "       'BO', 'DO', 'ID', 'MY', 'HN', 'DZ', 'IQ', 'BG', 'JE', 'RS', 'LU'],\n",
       "      dtype=object)"
      ]
     },
     "execution_count": 133,
     "metadata": {},
     "output_type": "execute_result"
    }
   ],
   "source": [
    "data['employee_residence'].unique()"
   ]
  },
  {
   "cell_type": "code",
   "execution_count": 134,
   "metadata": {},
   "outputs": [],
   "source": [
    "import pycountry as pyc"
   ]
  },
  {
   "cell_type": "code",
   "execution_count": 135,
   "metadata": {},
   "outputs": [],
   "source": [
    "def country_code_to_name1(country_code):\n",
    "    try:\n",
    "        return pyc.countries.get(alpha_2=country_code).name\n",
    "    except:\n",
    "        return country_code\n",
    "    \n",
    "def country_code_to_name2(code):\n",
    "    try:\n",
    "        country = pyc.countries.get(alpha_2=code)\n",
    "        return country.name\n",
    "    except:\n",
    "        return None"
   ]
  },
  {
   "cell_type": "code",
   "execution_count": 136,
   "metadata": {},
   "outputs": [
    {
     "data": {
      "text/plain": [
       "array(['United States', 'Australia', 'United Kingdom', 'Canada',\n",
       "       'Netherlands', 'Lithuania', 'Denmark', 'France', 'South Africa',\n",
       "       'New Zealand', 'Argentina', 'Spain', 'Kenya', 'Latvia', 'Georgia',\n",
       "       'India', 'Germany', 'Israel', 'Finland', 'Austria', 'Croatia',\n",
       "       'Brazil', 'Switzerland', 'United Arab Emirates', 'Greece',\n",
       "       'Poland', 'Saudi Arabia', 'Ukraine', 'Egypt', 'Philippines',\n",
       "       'Türkiye', 'Oman', 'Mexico', 'Portugal', 'Bosnia and Herzegovina',\n",
       "       'Italy', 'Ireland', 'Estonia', 'Malta', 'Lebanon', 'Romania',\n",
       "       'Hungary', 'Viet Nam', 'Nigeria', 'Czechia', 'Pakistan', 'Uganda',\n",
       "       'Colombia', 'Slovenia', 'Mauritius', 'Armenia', 'Thailand',\n",
       "       'Korea, Republic of', 'Qatar', 'Russian Federation', 'Tunisia',\n",
       "       'Ghana', 'Belgium', 'Andorra', 'Ecuador', 'Peru',\n",
       "       'Moldova, Republic of', 'Norway', 'Uzbekistan', 'Japan',\n",
       "       'Hong Kong', 'Central African Republic', 'Singapore', 'Sweden',\n",
       "       'Kuwait', 'Cyprus', 'Iran, Islamic Republic of', 'American Samoa',\n",
       "       'China', 'Costa Rica', 'Chile', 'Puerto Rico',\n",
       "       'Bolivia, Plurinational State of', 'Dominican Republic',\n",
       "       'Indonesia', 'Malaysia', 'Honduras', 'Algeria', 'Iraq', 'Bulgaria',\n",
       "       'Jersey', 'Serbia', 'Luxembourg'], dtype=object)"
      ]
     },
     "execution_count": 136,
     "metadata": {},
     "output_type": "execute_result"
    }
   ],
   "source": [
    "data['employee_residence'].apply(country_code_to_name2).unique()"
   ]
  },
  {
   "cell_type": "code",
   "execution_count": 137,
   "metadata": {},
   "outputs": [
    {
     "data": {
      "text/plain": [
       "array(['US', 'AU', 'GB', 'CA', 'NL', 'LT', 'DK', 'FR', 'ZA', 'NZ', 'AR',\n",
       "       'ES', 'KE', 'LV', 'GE', 'IN', 'DE', 'IL', 'FI', 'AT', 'HR', 'BR',\n",
       "       'CH', 'AE', 'GR', 'PL', 'SA', 'UA', 'EG', 'PH', 'TR', 'OM', 'MX',\n",
       "       'PT', 'BA', 'IT', 'IE', 'EE', 'MT', 'LB', 'RO', 'HU', 'VN', 'NG',\n",
       "       'CZ', 'PK', 'UG', 'CO', 'SI', 'MU', 'AM', 'TH', 'KR', 'QA', 'RU',\n",
       "       'TN', 'GH', 'BE', 'AD', 'EC', 'PE', 'MD', 'NO', 'UZ', 'JP', 'HK',\n",
       "       'CF', 'SG', 'SE', 'KW', 'CY', 'IR', 'AS', 'CN', 'CR', 'CL', 'PR',\n",
       "       'BO', 'DO', 'ID', 'MY', 'HN', 'DZ', 'IQ', 'BG', 'JE', 'RS', 'LU'],\n",
       "      dtype=object)"
      ]
     },
     "execution_count": 137,
     "metadata": {},
     "output_type": "execute_result"
    }
   ],
   "source": [
    "data['employee_residence'].unique()"
   ]
  },
  {
   "cell_type": "code",
   "execution_count": 138,
   "metadata": {},
   "outputs": [],
   "source": [
    "def emp_residence(emp_res):\n",
    "\n",
    "    north_america = ['United States', 'Canada', 'Mexico']\n",
    "\n",
    "    central_america = ['Honduras', 'Costa Rica', 'Puerto Rico', 'Dominican Republic']\n",
    "\n",
    "    south_america = ['Ecuador', 'Peru', 'Colombia', 'Bolivia, Plurinational State of', 'Brazil', 'Chile', 'Argentina']\n",
    "\n",
    "    europe = ['Austria', 'Spain', 'France', 'Italy', 'Moldova, Republic of', \n",
    "              'Netherlands', 'Estonia', 'Hungary', 'Norway', 'Denmark',\n",
    "              'Lithuania', 'Latvia', 'Germany', 'Finland', 'Croatia',\n",
    "              'Switzerland', 'Greece', 'Poland', 'Ukraine', 'Portugal',\n",
    "              'Bosnia and Herzegovina', 'Ireland', 'Malta', 'Romania',\n",
    "              'Czechia', 'Slovenia', 'Belgium', 'Andorra', 'Sweden',\n",
    "              'Bulgaria', 'Serbia', 'Luxembourg', 'United Kingdom']\n",
    "    \n",
    "    middle_east = ['Georgia', 'Israel', 'United Arab Emirates',\n",
    "                   'Saudi Arabia', 'Türkiye', 'Oman', 'Lebanon',\n",
    "                   'Pakistan', 'Armenia', 'Qatar', 'Uzbekistan',\n",
    "                   'Kuwait', 'Cyprus', 'Iran, Islamic Republic of',\n",
    "                   'Iraq']\n",
    "    \n",
    "    asia = ['India', 'Philippines', 'Viet Nam', 'Thailand',\n",
    "            'Korea, Republic of', 'Japan', 'Singapore', 'China',\n",
    "            'Indonesia', 'Malaysia']\n",
    "    \n",
    "    africa = ['South Africa', 'Kenya', 'Egypt', 'Nigeria', 'Uganda',\n",
    "              'Mauritius', 'Tunisia', 'Ghana', 'Central African Republic',\n",
    "              'Algeria', 'Morocco']\n",
    "    \n",
    "    oceania = ['Australia', 'New Zealand', 'American Samoa']\n",
    "\n",
    "    if emp_res in north_america:\n",
    "        return 'North America'\n",
    "    elif emp_res in central_america:\n",
    "        return 'Central America'\n",
    "    elif emp_res in south_america:\n",
    "        return 'South America'\n",
    "    elif emp_res in europe:\n",
    "        return 'Europe'\n",
    "    elif emp_res in middle_east:\n",
    "        return 'Middle East'\n",
    "    elif emp_res in asia:\n",
    "        return 'Asia'\n",
    "    elif emp_res in africa:\n",
    "        return 'Africa'\n",
    "    elif emp_res in oceania:\n",
    "        return 'Oceania'\n",
    "    else:\n",
    "        return 'Other'"
   ]
  },
  {
   "cell_type": "code",
   "execution_count": 139,
   "metadata": {},
   "outputs": [],
   "source": [
    "data['residence'] = data['employee_residence'].apply(country_code_to_name1)"
   ]
  },
  {
   "cell_type": "code",
   "execution_count": null,
   "metadata": {},
   "outputs": [],
   "source": []
  },
  {
   "cell_type": "code",
   "execution_count": 140,
   "metadata": {},
   "outputs": [],
   "source": [
    "avg = data.groupby('company_location')['salary_in_usd'].mean()"
   ]
  },
  {
   "cell_type": "code",
   "execution_count": 141,
   "metadata": {},
   "outputs": [
    {
     "data": {
      "text/plain": [
       "company_location\n",
       "AD     50745.000000\n",
       "AE     86000.000000\n",
       "AM     50000.000000\n",
       "AR     62444.444444\n",
       "AS     31684.333333\n",
       "          ...      \n",
       "TR     23094.666667\n",
       "UA    105600.000000\n",
       "US    156904.423130\n",
       "VN     63000.000000\n",
       "ZA     53488.684211\n",
       "Name: salary_in_usd, Length: 77, dtype: float64"
      ]
     },
     "execution_count": 141,
     "metadata": {},
     "output_type": "execute_result"
    }
   ],
   "source": [
    "avg"
   ]
  },
  {
   "cell_type": "code",
   "execution_count": 142,
   "metadata": {},
   "outputs": [
    {
     "data": {
      "text/plain": [
       "0        United States\n",
       "1        United States\n",
       "2        United States\n",
       "3        United States\n",
       "4        United States\n",
       "             ...      \n",
       "16529    United States\n",
       "16530    United States\n",
       "16531    United States\n",
       "16532    United States\n",
       "16533            India\n",
       "Name: residence, Length: 16534, dtype: object"
      ]
     },
     "execution_count": 142,
     "metadata": {},
     "output_type": "execute_result"
    }
   ],
   "source": [
    "data['residence']"
   ]
  },
  {
   "cell_type": "code",
   "execution_count": 143,
   "metadata": {},
   "outputs": [],
   "source": [
    "data['continent'] = data['residence'].apply(emp_residence)"
   ]
  },
  {
   "cell_type": "code",
   "execution_count": 144,
   "metadata": {},
   "outputs": [
    {
     "data": {
      "text/plain": [
       "0        North America\n",
       "1        North America\n",
       "2        North America\n",
       "3        North America\n",
       "4        North America\n",
       "             ...      \n",
       "16529    North America\n",
       "16530    North America\n",
       "16531    North America\n",
       "16532    North America\n",
       "16533             Asia\n",
       "Name: continent, Length: 16534, dtype: object"
      ]
     },
     "execution_count": 144,
     "metadata": {},
     "output_type": "execute_result"
    }
   ],
   "source": [
    "data['continent']"
   ]
  },
  {
   "cell_type": "code",
   "execution_count": 145,
   "metadata": {},
   "outputs": [
    {
     "name": "stderr",
     "output_type": "stream",
     "text": [
      "/opt/anaconda3/lib/python3.11/site-packages/seaborn/categorical.py:1794: FutureWarning: use_inf_as_na option is deprecated and will be removed in a future version. Convert inf values to NaN before operating instead.\n",
      "  with pd.option_context('mode.use_inf_as_na', True):\n",
      "/opt/anaconda3/lib/python3.11/site-packages/seaborn/categorical.py:1794: FutureWarning: use_inf_as_na option is deprecated and will be removed in a future version. Convert inf values to NaN before operating instead.\n",
      "  with pd.option_context('mode.use_inf_as_na', True):\n",
      "/opt/anaconda3/lib/python3.11/site-packages/seaborn/categorical.py:1794: FutureWarning: use_inf_as_na option is deprecated and will be removed in a future version. Convert inf values to NaN before operating instead.\n",
      "  with pd.option_context('mode.use_inf_as_na', True):\n",
      "/opt/anaconda3/lib/python3.11/site-packages/seaborn/categorical.py:1794: FutureWarning: use_inf_as_na option is deprecated and will be removed in a future version. Convert inf values to NaN before operating instead.\n",
      "  with pd.option_context('mode.use_inf_as_na', True):\n",
      "/opt/anaconda3/lib/python3.11/site-packages/seaborn/categorical.py:1794: FutureWarning: use_inf_as_na option is deprecated and will be removed in a future version. Convert inf values to NaN before operating instead.\n",
      "  with pd.option_context('mode.use_inf_as_na', True):\n",
      "/opt/anaconda3/lib/python3.11/site-packages/seaborn/categorical.py:1794: FutureWarning: use_inf_as_na option is deprecated and will be removed in a future version. Convert inf values to NaN before operating instead.\n",
      "  with pd.option_context('mode.use_inf_as_na', True):\n",
      "/opt/anaconda3/lib/python3.11/site-packages/seaborn/categorical.py:1794: FutureWarning: use_inf_as_na option is deprecated and will be removed in a future version. Convert inf values to NaN before operating instead.\n",
      "  with pd.option_context('mode.use_inf_as_na', True):\n",
      "/opt/anaconda3/lib/python3.11/site-packages/seaborn/categorical.py:1794: FutureWarning: use_inf_as_na option is deprecated and will be removed in a future version. Convert inf values to NaN before operating instead.\n",
      "  with pd.option_context('mode.use_inf_as_na', True):\n",
      "/opt/anaconda3/lib/python3.11/site-packages/seaborn/categorical.py:1794: FutureWarning: use_inf_as_na option is deprecated and will be removed in a future version. Convert inf values to NaN before operating instead.\n",
      "  with pd.option_context('mode.use_inf_as_na', True):\n"
     ]
    },
    {
     "data": {
      "text/plain": [
       "<Axes: xlabel='salary_in_usd', ylabel='continent'>"
      ]
     },
     "execution_count": 145,
     "metadata": {},
     "output_type": "execute_result"
    },
    {
     "data": {
      "image/png": "[encoded data removed]",
      "text/plain": [
       "<Figure size 640x480 with 1 Axes>"
      ]
     },
     "metadata": {},
     "output_type": "display_data"
    }
   ],
   "source": [
    "\n",
    "sns.boxenplot(data, x= 'salary_in_usd', y= data['continent'])"
   ]
  },
  {
   "cell_type": "code",
   "execution_count": 146,
   "metadata": {},
   "outputs": [],
   "source": [
    "kategoriale_col = ['experience_level', 'employment_type', 'job_title', '']"
   ]
  },
  {
   "cell_type": "code",
   "execution_count": 147,
   "metadata": {},
   "outputs": [
    {
     "data": {
      "text/plain": [
       "Index(['work_year', 'experience_level', 'employment_type', 'job_title',\n",
       "       'salary', 'salary_currency', 'salary_in_usd', 'employee_residence',\n",
       "       'remote_ratio', 'company_location', 'company_size', 'job_category',\n",
       "       'residence', 'continent'],\n",
       "      dtype='object')"
      ]
     },
     "execution_count": 147,
     "metadata": {},
     "output_type": "execute_result"
    }
   ],
   "source": [
    "data.columns"
   ]
  },
  {
   "cell_type": "code",
   "execution_count": 148,
   "metadata": {},
   "outputs": [],
   "source": [
    "import pycountry as pyc\n",
    "\n",
    "def country_con(code):\n",
    "    \"\"\"\n",
    "    Konvertiert einen ISO 3166-1 Alpha-2 oder Alpha-3 Ländercode in den entsprechenden Ländernamen.\n",
    "    \n",
    "    Args:\n",
    "        code (str): Der ISO 3166-1 Alpha-2 oder Alpha-3 Ländercode.\n",
    "        \n",
    "    Returns:\n",
    "        str: Der entsprechende Ländername oder eine Fehlermeldung, wenn der Code ungültig ist.\n",
    "    \"\"\"\n",
    "    try:\n",
    "        country = pyc.countries.get(alpha_2=code.upper()) or pyc.countries.get(alpha_3=code.upper())\n",
    "        if country:\n",
    "            return country.name\n",
    "        else:\n",
    "            return f\"Ungültiger Ländercode: {code}\"\n",
    "    except Exception as e:\n",
    "        return str(e)"
   ]
  },
  {
   "cell_type": "code",
   "execution_count": 149,
   "metadata": {},
   "outputs": [
    {
     "name": "stdout",
     "output_type": "stream",
     "text": [
      "[1, 2, 3]\n"
     ]
    }
   ],
   "source": [
    "numbers = [1, 2, 3, 4, 5, 3, 2, 6, 1, 7] \n",
    "print(sorted(set(x for x in numbers if numbers.count(x) > 1)))"
   ]
  },
  {
   "cell_type": "code",
   "execution_count": 150,
   "metadata": {},
   "outputs": [
    {
     "data": {
      "text/plain": [
       "array(['AI Engineer', 'Data Engineer', 'Machine Learning Engineer',\n",
       "       'ML Engineer', 'Data Analyst', 'NLP Engineer', 'Data Scientist',\n",
       "       'Applied Scientist', 'Data Manager', 'Data Architect',\n",
       "       'Data Operations Manager', 'Research Scientist',\n",
       "       'Data Science Manager', 'Business Intelligence Engineer',\n",
       "       'Business Intelligence', 'Data Modeler',\n",
       "       'Data Integration Specialist', 'Data Product Manager',\n",
       "       'Data Visualization Specialist', 'Data Science', 'Data Specialist',\n",
       "       'Business Intelligence Lead', 'Research Analyst',\n",
       "       'Business Intelligence Analyst', 'AI Software Engineer',\n",
       "       'Machine Learning Scientist', 'Data Science Engineer',\n",
       "       'Machine Learning Operations Engineer', 'Analytics Engineer',\n",
       "       'Data Management Analyst',\n",
       "       'Encounter Data Management Professional',\n",
       "       'Data Analytics Specialist', 'Head of Data', 'Data Analytics Lead',\n",
       "       'Research Engineer', 'AI Scientist',\n",
       "       'Business Intelligence Developer', 'Machine Learning Developer',\n",
       "       'Data Management Specialist', 'Data Infrastructure Engineer',\n",
       "       'BI Developer', 'Admin & Data Analyst', 'Insight Analyst',\n",
       "       'Consultant Data Engineer', 'Business Intelligence Manager',\n",
       "       'Manager Data Management', 'Data Quality Manager',\n",
       "       'Data Analytics Manager', 'Robotics Engineer',\n",
       "       'Business Intelligence Specialist', 'Data Operations Analyst',\n",
       "       'Director of Business Intelligence', 'Data Product Owner',\n",
       "       'AI Research Scientist', 'Data Operations Specialist',\n",
       "       'Bear Robotics', 'Data Science Consultant', 'Data Lead',\n",
       "       'Data Operations Associate', 'AI Architect', 'Lead Data Scientist',\n",
       "       'MLOps Engineer', 'BI Analyst', 'Applied Research Scientist',\n",
       "       'Prompt Engineer', 'Data Integration Engineer',\n",
       "       'Machine Learning Infrastructure Engineer', 'Data Developer',\n",
       "       'CRM Data Analyst', 'ETL Developer', 'Cloud Database Engineer',\n",
       "       'Data Science Analyst', 'Data Science Practitioner',\n",
       "       'BI Data Analyst', 'Applied Data Scientist',\n",
       "       'Data Quality Engineer', 'Computational Biologist',\n",
       "       'Big Data Engineer', 'Data Analytics Associate',\n",
       "       'Data Reporting Analyst', 'Data Management Consultant',\n",
       "       'Data Quality Analyst', 'Robotics Software Engineer',\n",
       "       'Machine Learning Researcher', 'Data DevOps Engineer',\n",
       "       'Data Science Director', 'Data Strategist', 'Big Data Developer',\n",
       "       'Quantitative Research Analyst', 'Lead Machine Learning Engineer',\n",
       "       'Machine Learning Research Engineer', 'Data Analytics Consultant',\n",
       "       'AI Research Engineer', 'AI Programmer', 'ETL Engineer',\n",
       "       'AI Product Manager', 'AI Developer', 'Computer Vision Engineer',\n",
       "       'Head of Machine Learning', 'Data Analyst Lead',\n",
       "       'Data Integration Developer', 'ML Ops Engineer',\n",
       "       'Data Pipeline Engineer', 'Lead Data Analyst', 'Data Science Lead',\n",
       "       'Director of Data Science', 'Managing Director Data Science',\n",
       "       'Business Data Analyst', 'Marketing Data Scientist',\n",
       "       'Deep Learning Engineer', 'Machine Learning Modeler',\n",
       "       'Decision Scientist', 'Financial Data Analyst',\n",
       "       'Data Strategy Manager', 'Data Visualization Engineer',\n",
       "       'Azure Data Engineer', 'Principal Data Scientist',\n",
       "       'Staff Data Analyst', 'Machine Learning Software Engineer',\n",
       "       'Applied Machine Learning Scientist', 'Data Operations Engineer',\n",
       "       'Machine Learning Manager', 'Principal Machine Learning Engineer',\n",
       "       'Principal Data Engineer', 'Power BI Developer',\n",
       "       'Head of Data Science', 'Staff Machine Learning Engineer',\n",
       "       'Staff Data Scientist', 'Machine Learning Specialist',\n",
       "       'Business Intelligence Data Analyst', 'Data Modeller',\n",
       "       'Finance Data Analyst', 'Software Data Engineer',\n",
       "       'Compliance Data Analyst', 'Cloud Data Engineer',\n",
       "       'Analytics Engineering Manager', 'AWS Data Architect',\n",
       "       'Product Data Analyst', 'Data Visualization Analyst',\n",
       "       'Autonomous Vehicle Technician', 'Sales Data Analyst',\n",
       "       'Applied Machine Learning Engineer', 'BI Data Engineer',\n",
       "       'Deep Learning Researcher', 'Big Data Architect',\n",
       "       'Computer Vision Software Engineer', 'Marketing Data Engineer',\n",
       "       'Data Science Tech Lead', 'Data Scientist Lead',\n",
       "       'Marketing Data Analyst', 'Principal Data Architect',\n",
       "       'Data Analytics Engineer', 'Cloud Data Architect',\n",
       "       'Lead Data Engineer', 'Principal Data Analyst'], dtype=object)"
      ]
     },
     "execution_count": 150,
     "metadata": {},
     "output_type": "execute_result"
    }
   ],
   "source": [
    "data['job_title'].unique()"
   ]
  },
  {
   "cell_type": "code",
   "execution_count": 151,
   "metadata": {},
   "outputs": [],
   "source": [
    "data_engineering = [\"Data Engineer\", \"Data Analyst\", \"Analytics Engineer\",\n",
    "                        \"BI Data Analyst\", \"Business Data Analyst\", \"BI Developer\",\n",
    "                        \"BI Analyst\", \"Business Intelligence Engineer\",\n",
    "                        \"BI Data Engineer\", \"Power BI Developer\"]\n",
    "    \n",
    "data_scientist = [\"Data Scientist\", \"Applied Scientist\", \"Research Scientist\",\n",
    "                    \"3D Computer Vision Researcher\", \"Deep Learning Researcher\",\n",
    "                    \"AI/Computer Vision Engineer\"]\n",
    "\n",
    "machine_learning = [\"Machine Learning Engineer\", \"ML Engineer\",\n",
    "                    \"Lead Machine Learning Engineer\", \"Principal Machine Learning Engineer\"]\n",
    "\n",
    "data_architecture = [\"Data Architect\", \"Big Data Architect\", \"Cloud Data Architect\", \"Principal Data Architect\"]\n",
    "\n",
    "management = [\"Data Science Manager\", \"Director of Data Science\",\n",
    "                \"Head of Data Science\", \"Data Scientist Lead\", \"Head of Machine Learning\",\n",
    "                \"Manager Data Management\", \"Data Analytics Manager\"]"
   ]
  },
  {
   "cell_type": "code",
   "execution_count": null,
   "metadata": {},
   "outputs": [],
   "source": []
  },
  {
   "cell_type": "code",
   "execution_count": 158,
   "metadata": {},
   "outputs": [],
   "source": [
    "data_coordinates = pd.read_csv('dataset_with_coordinates.csv')\n",
    "data_coordinates.drop(['salary', 'salary_currency'], axis= 1, inplace= True)"
   ]
  },
  {
   "cell_type": "code",
   "execution_count": 159,
   "metadata": {},
   "outputs": [
    {
     "data": {
      "text/html": [
       "<div>\n",
       "<style scoped>\n",
       "    .dataframe tbody tr th:only-of-type {\n",
       "        vertical-align: middle;\n",
       "    }\n",
       "\n",
       "    .dataframe tbody tr th {\n",
       "        vertical-align: top;\n",
       "    }\n",
       "\n",
       "    .dataframe thead th {\n",
       "        text-align: right;\n",
       "    }\n",
       "</style>\n",
       "<table border=\"1\" class=\"dataframe\">\n",
       "  <thead>\n",
       "    <tr style=\"text-align: right;\">\n",
       "      <th></th>\n",
       "      <th>work_year</th>\n",
       "      <th>experience_level</th>\n",
       "      <th>employment_type</th>\n",
       "      <th>job_title</th>\n",
       "      <th>salary_in_usd</th>\n",
       "      <th>employee_residence</th>\n",
       "      <th>remote_ratio</th>\n",
       "      <th>company_location</th>\n",
       "      <th>company_size</th>\n",
       "      <th>employee_residence_latitude</th>\n",
       "      <th>employee_residence_longitude</th>\n",
       "      <th>company_location_latitude</th>\n",
       "      <th>company_location_longitude</th>\n",
       "    </tr>\n",
       "  </thead>\n",
       "  <tbody>\n",
       "    <tr>\n",
       "      <th>0</th>\n",
       "      <td>2024</td>\n",
       "      <td>SE</td>\n",
       "      <td>FT</td>\n",
       "      <td>AI Engineer</td>\n",
       "      <td>202730</td>\n",
       "      <td>US</td>\n",
       "      <td>0</td>\n",
       "      <td>US</td>\n",
       "      <td>M</td>\n",
       "      <td>37.0902</td>\n",
       "      <td>-95.7129</td>\n",
       "      <td>37.0902</td>\n",
       "      <td>-95.7129</td>\n",
       "    </tr>\n",
       "    <tr>\n",
       "      <th>1</th>\n",
       "      <td>2024</td>\n",
       "      <td>SE</td>\n",
       "      <td>FT</td>\n",
       "      <td>AI Engineer</td>\n",
       "      <td>92118</td>\n",
       "      <td>US</td>\n",
       "      <td>0</td>\n",
       "      <td>US</td>\n",
       "      <td>M</td>\n",
       "      <td>37.0902</td>\n",
       "      <td>-95.7129</td>\n",
       "      <td>37.0902</td>\n",
       "      <td>-95.7129</td>\n",
       "    </tr>\n",
       "    <tr>\n",
       "      <th>2</th>\n",
       "      <td>2024</td>\n",
       "      <td>SE</td>\n",
       "      <td>FT</td>\n",
       "      <td>Data Engineer</td>\n",
       "      <td>130500</td>\n",
       "      <td>US</td>\n",
       "      <td>0</td>\n",
       "      <td>US</td>\n",
       "      <td>M</td>\n",
       "      <td>37.0902</td>\n",
       "      <td>-95.7129</td>\n",
       "      <td>37.0902</td>\n",
       "      <td>-95.7129</td>\n",
       "    </tr>\n",
       "    <tr>\n",
       "      <th>3</th>\n",
       "      <td>2024</td>\n",
       "      <td>SE</td>\n",
       "      <td>FT</td>\n",
       "      <td>Data Engineer</td>\n",
       "      <td>96000</td>\n",
       "      <td>US</td>\n",
       "      <td>0</td>\n",
       "      <td>US</td>\n",
       "      <td>M</td>\n",
       "      <td>37.0902</td>\n",
       "      <td>-95.7129</td>\n",
       "      <td>37.0902</td>\n",
       "      <td>-95.7129</td>\n",
       "    </tr>\n",
       "    <tr>\n",
       "      <th>4</th>\n",
       "      <td>2024</td>\n",
       "      <td>SE</td>\n",
       "      <td>FT</td>\n",
       "      <td>Machine Learning Engineer</td>\n",
       "      <td>190000</td>\n",
       "      <td>US</td>\n",
       "      <td>0</td>\n",
       "      <td>US</td>\n",
       "      <td>M</td>\n",
       "      <td>37.0902</td>\n",
       "      <td>-95.7129</td>\n",
       "      <td>37.0902</td>\n",
       "      <td>-95.7129</td>\n",
       "    </tr>\n",
       "  </tbody>\n",
       "</table>\n",
       "</div>"
      ],
      "text/plain": [
       "   work_year experience_level employment_type                  job_title  \\\n",
       "0       2024               SE              FT                AI Engineer   \n",
       "1       2024               SE              FT                AI Engineer   \n",
       "2       2024               SE              FT              Data Engineer   \n",
       "3       2024               SE              FT              Data Engineer   \n",
       "4       2024               SE              FT  Machine Learning Engineer   \n",
       "\n",
       "   salary_in_usd employee_residence  remote_ratio company_location  \\\n",
       "0         202730                 US             0               US   \n",
       "1          92118                 US             0               US   \n",
       "2         130500                 US             0               US   \n",
       "3          96000                 US             0               US   \n",
       "4         190000                 US             0               US   \n",
       "\n",
       "  company_size  employee_residence_latitude  employee_residence_longitude  \\\n",
       "0            M                      37.0902                      -95.7129   \n",
       "1            M                      37.0902                      -95.7129   \n",
       "2            M                      37.0902                      -95.7129   \n",
       "3            M                      37.0902                      -95.7129   \n",
       "4            M                      37.0902                      -95.7129   \n",
       "\n",
       "   company_location_latitude  company_location_longitude  \n",
       "0                    37.0902                    -95.7129  \n",
       "1                    37.0902                    -95.7129  \n",
       "2                    37.0902                    -95.7129  \n",
       "3                    37.0902                    -95.7129  \n",
       "4                    37.0902                    -95.7129  "
      ]
     },
     "execution_count": 159,
     "metadata": {},
     "output_type": "execute_result"
    }
   ],
   "source": [
    "data_coordinates.head(5)"
   ]
  },
  {
   "cell_type": "code",
   "execution_count": null,
   "metadata": {},
   "outputs": [],
   "source": []
  }
 ],
 "metadata": {
  "kernelspec": {
   "display_name": "base",
   "language": "python",
   "name": "python3"
  },
  "language_info": {
   "codemirror_mode": {
    "name": "ipython",
    "version": 3
   },
   "file_extension": ".py",
   "mimetype": "text/x-python",
   "name": "python",
   "nbconvert_exporter": "python",
   "pygments_lexer": "ipython3",
   "version": "3.11.7"
  }
 },
 "nbformat": 4,
 "nbformat_minor": 2
}
